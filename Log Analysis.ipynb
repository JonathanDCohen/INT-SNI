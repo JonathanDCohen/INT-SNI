{
 "cells": [
  {
   "cell_type": "code",
   "execution_count": 1,
   "metadata": {},
   "outputs": [],
   "source": [
    "import os\n",
    "from collections import defaultdict\n",
    "from collections import Counter"
   ]
  },
  {
   "cell_type": "code",
   "execution_count": 2,
   "metadata": {},
   "outputs": [
    {
     "data": {
      "text/plain": [
       "1370"
      ]
     },
     "execution_count": 2,
     "metadata": {},
     "output_type": "execute_result"
    }
   ],
   "source": [
    "with open(\"testlist.tsv\", 'r') as fp:\n",
    "    test_hosts = fp.readlines()\n",
    "len(test_hosts)"
   ]
  },
  {
   "cell_type": "markdown",
   "metadata": {},
   "source": [
    "# Detection heuristic"
   ]
  },
  {
   "cell_type": "code",
   "execution_count": 3,
   "metadata": {},
   "outputs": [],
   "source": [
    "def analyse_log(isp, correct_sni, host_ip):\n",
    "\n",
    "    ### safe SNI logs analysis ###\n",
    "    safe_sni_rst_hop = None\n",
    "    safe_sni_fin_hop = None\n",
    "    safe_sni_tls_record_hop = None\n",
    "\n",
    "    with open(\"./%s_logs/%s_%s_safe\" % (isp, host_ip, correct_sni), 'r') as fp:\n",
    "        safe_sni_logs = fp.read().split(\"\\n\\n\\n\")\n",
    "\n",
    "    for it, line in enumerate(safe_sni_logs):\n",
    "        if (\"TLS Server Hello found\" in line or \"TLS Alert found\" in line) and safe_sni_tls_record_hop is None:\n",
    "            safe_sni_tls_record_hop = it + 1\n",
    "        elif \"RST recevied at\" in line and safe_sni_rst_hop is None:\n",
    "            safe_sni_rst_hop = it + 1\n",
    "        elif \"FIN recevied at\" in line and safe_sni_fin_hop is None:\n",
    "            safe_sni_fin_hop = it + 1\n",
    "\n",
    "\n",
    "    if not safe_sni_tls_record_hop:\n",
    "        return \"No TLS ServerHello/Alert via safe SNI test\"\n",
    "\n",
    "    ### Correct SNI logs analysis ###\n",
    "    correct_sni_rst_hop = None\n",
    "    correct_sni_fin_hop = None\n",
    "    correct_sni_tls_record_hop = None\n",
    "\n",
    "    with open(\"./%s_logs/%s_%s_correct\" % (isp, host_ip, correct_sni), 'r') as fp:\n",
    "        correct_sni_logs = fp.read().split(\"\\n\\n\\n\")\n",
    "        \n",
    "    for it, line in enumerate(correct_sni_logs):\n",
    "        if (\"TLS Server Hello found\" in line or \"TLS Alert found\" in line) and correct_sni_tls_record_hop is None:\n",
    "            correct_sni_tls_record_hop = it + 1\n",
    "        elif \"RST recevied at\" in line and correct_sni_rst_hop is None:\n",
    "            correct_sni_rst_hop = it + 1\n",
    "        elif \"FIN recevied at\" in line and correct_sni_fin_hop is None:\n",
    "            correct_sni_fin_hop = it + 1\n",
    "            \n",
    "\n",
    "    if not (correct_sni_rst_hop or correct_sni_fin_hop) and not correct_sni_tls_record_hop:\n",
    "        return \"Not enough hops for correct SNI test\"\n",
    "\n",
    "    if correct_sni_tls_record_hop:\n",
    "        return \"SNI inspection based censorship not present\"\n",
    "    elif safe_sni_tls_record_hop and correct_sni_rst_hop:\n",
    "        if correct_sni_rst_hop < safe_sni_tls_record_hop:\n",
    "            return \"SNI inspection based censorship present (RST) [< last hop]\"\n",
    "        elif correct_sni_rst_hop == safe_sni_tls_record_hop:\n",
    "            return \"SNI inspection based censorship present (RST) [last hop]\"\n",
    "    elif safe_sni_tls_record_hop and correct_sni_fin_hop:\n",
    "        if correct_sni_fin_hop < safe_sni_tls_record_hop:\n",
    "            return \"SNI inspection based censorship present (FIN) [< last hop]\"\n",
    "        elif correct_sni_fin_hop == safe_sni_tls_record_hop:\n",
    "            return \"SNI inspection based censorship present (FIN) [last hop]\"\n",
    "    else:\n",
    "        return \"Unkown\"\n",
    "\n",
    "    print (host_ip, correct_sni)\n",
    "    print (\"returing None\")"
   ]
  },
  {
   "cell_type": "markdown",
   "metadata": {},
   "source": [
    "# Analysing airtel logs"
   ]
  },
  {
   "cell_type": "code",
   "execution_count": 4,
   "metadata": {
    "scrolled": true
   },
   "outputs": [
    {
     "name": "stdout",
     "output_type": "stream",
     "text": [
      "SNI inspection based censorship present (RST) [< last hop] : 1058\n",
      "SNI inspection based censorship not present : 290\n",
      "TestRunFailure : 15\n",
      "No TLS ServerHello/Alert via safe SNI test : 4\n",
      "SNI inspection based censorship present (RST) [last hop] : 3\n"
     ]
    }
   ],
   "source": [
    "isp = \"airtel\"\n",
    "results = defaultdict(lambda : 0)\n",
    "fp = open(\"%s_processed.log\" % (isp), 'w')\n",
    "\n",
    "with open(\"./airtel_logs/fail.log\", 'r') as fp:\n",
    "    failures = set(list(map(lambda x : x.split()[0], fp.readlines())))\n",
    "\n",
    "for line in test_hosts:\n",
    "    correct_sni, host_ip = line.strip(\"\\n\").split()\n",
    "\n",
    "    if correct_sni in failures:\n",
    "        results[\"TestRunFailure\"] += 1\n",
    "        continue\n",
    "\n",
    "    try:\n",
    "        results[analyse_log(isp, correct_sni, host_ip)] += 1\n",
    "\n",
    "    except Exception as e:\n",
    "        results[e] += 1\n",
    "\n",
    "fp.close()\n",
    "for result, value in sorted(results.items(), key = lambda x : -1 * x[1]):\n",
    "    print (result, \":\", value)"
   ]
  },
  {
   "cell_type": "code",
   "execution_count": null,
   "metadata": {},
   "outputs": [],
   "source": []
  }
 ],
 "metadata": {
  "kernelspec": {
   "display_name": "Python 3",
   "language": "python",
   "name": "python3"
  },
  "language_info": {
   "codemirror_mode": {
    "name": "ipython",
    "version": 3
   },
   "file_extension": ".py",
   "mimetype": "text/x-python",
   "name": "python",
   "nbconvert_exporter": "python",
   "pygments_lexer": "ipython3",
   "version": "3.7.6"
  }
 },
 "nbformat": 4,
 "nbformat_minor": 4
}
