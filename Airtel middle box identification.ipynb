{
 "cells": [
  {
   "cell_type": "code",
   "execution_count": 1,
   "metadata": {},
   "outputs": [],
   "source": [
    "import ipinfo\n",
    "import pprint\n",
    "import json\n",
    "from collections import defaultdict"
   ]
  },
  {
   "cell_type": "code",
   "execution_count": 2,
   "metadata": {},
   "outputs": [],
   "source": [
    "with open(\"airtel_middleboxes/identified_middleboxes.txt\", \"r\") as fp:\n",
    "    airtel_identified_middleboxes = fp.read().split()"
   ]
  },
  {
   "cell_type": "markdown",
   "metadata": {},
   "source": [
    "## Fetch details from ipinfo"
   ]
  },
  {
   "cell_type": "code",
   "execution_count": 3,
   "metadata": {},
   "outputs": [],
   "source": [
    "access_token = \"\"\n",
    "handler = ipinfo.getHandler(access_token, cache_options = {'ttl' : 60, 'maxsize': 256})"
   ]
  },
  {
   "cell_type": "code",
   "execution_count": 4,
   "metadata": {
    "scrolled": true
   },
   "outputs": [],
   "source": [
    "for middlebox_ip in airtel_identified_middleboxes:\n",
    "    details = handler.getDetails(middlebox_ip)\n",
    "    \n",
    "    middlebox_info = {\n",
    "        \"company\": details.company\n",
    "    }\n",
    "    \n",
    "    if \"asn\" in details.all:\n",
    "        middlebox_info[\"asn\"] = details.asn\n",
    "\n",
    "    with open('airtel_middleboxes/%s.json' %(middlebox_ip), 'w') as fp:\n",
    "        json.dump(middlebox_info, fp)"
   ]
  },
  {
   "cell_type": "markdown",
   "metadata": {},
   "source": [
    "## Check company names"
   ]
  },
  {
   "cell_type": "code",
   "execution_count": 5,
   "metadata": {
    "scrolled": true
   },
   "outputs": [],
   "source": [
    "domain_counter = defaultdict(lambda : 0)\n",
    "for middlebox_ip in airtel_identified_middleboxes:\n",
    "    \n",
    "    with open('airtel_middleboxes/%s.json' %(middlebox_ip), 'r') as fp:\n",
    "        middlebox_info = json.load(fp)\n",
    "    domain_counter[middlebox_info[\"company\"][\"domain\"]] += 1"
   ]
  },
  {
   "cell_type": "code",
   "execution_count": 6,
   "metadata": {},
   "outputs": [
    {
     "name": "stdout",
     "output_type": "stream",
     "text": [
      "defaultdict(<function <lambda> at 0x10a179710>, {'bhartitelesonic.com': 9, 'airtel.com': 16})\n"
     ]
    }
   ],
   "source": [
    "print (domain_counter)"
   ]
  },
  {
   "cell_type": "code",
   "execution_count": null,
   "metadata": {},
   "outputs": [],
   "source": []
  }
 ],
 "metadata": {
  "kernelspec": {
   "display_name": "Python 3",
   "language": "python",
   "name": "python3"
  },
  "language_info": {
   "codemirror_mode": {
    "name": "ipython",
    "version": 3
   },
   "file_extension": ".py",
   "mimetype": "text/x-python",
   "name": "python",
   "nbconvert_exporter": "python",
   "pygments_lexer": "ipython3",
   "version": "3.7.6"
  }
 },
 "nbformat": 4,
 "nbformat_minor": 4
}
